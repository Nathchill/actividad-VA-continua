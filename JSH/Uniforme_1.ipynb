{
 "cells": [
  {
   "attachments": {},
   "cell_type": "markdown",
   "metadata": {},
   "source": [
    "\n",
    "# Distribuccion Uniforme #\n",
    "\n",
    "\n",
    "### 1. EEl artículo \"Modeling Sediment and Water Column Interactions for Hidrophobic Pollutants\" (Water Research, 1984: 1169–1174) sugiere la distribución uniforme en el intervalo (7.5, 20) como modelo de profundidad (cm) de la capa de bioturbación en sedimento en una región. ###\n",
    "\n",
    "- ¿Cuáles son la media y la varianza de la profundidad?\n",
    "\n",
    "- ¿Cuál es la probabilidad de que la profundidad observada sea cuando mucho de 10? ¿Entre 10 y 15?\n",
    "\n",
    "- ¿Cuál es la probabilidad de que la profundidad observada esté dentro de 1 desviación estándar del valor medio?\n",
    "\n",
    "- ¿Dentro de 2 desviaciones estándar?"
   ]
  },
  {
   "cell_type": "code",
   "execution_count": 20,
   "metadata": {},
   "outputs": [
    {
     "name": "stdout",
     "output_type": "stream",
     "text": [
      "Media: 13.75\n",
      "Varianza: 13.020833333333334\n",
      "Probabilidad (profundidad <= 10): 0.2\n",
      "Probabilidad (10 < profundidad <= 15): 0.39999999999999997\n",
      "Probabilidad (profundidad dentro de 1 desviación estándar): 0.5773502691896258\n",
      "Probabilidad (profundidad dentro de 2 desviaciones estándar): 1.0\n"
     ]
    }
   ],
   "source": [
    "import numpy as np\n",
    "from scipy.stats import uniform\n",
    "\n",
    "# Parámetros del intervalo de distribución uniforme\n",
    "a = 7.5\n",
    "b = 20\n",
    "\n",
    "# Calculando la media y varianza de la distribución uniforme\n",
    "media = (a + b) / 2\n",
    "varianza = ((b - a) ** 2) / 12\n",
    "\n",
    "print(\"Media:\", media)\n",
    "print(\"Varianza:\", varianza)\n",
    "\n",
    "# Calculando la probabilidad de que la profundidad observada sea cuando mucho de 10\n",
    "prob_menos_de_10 = uniform.cdf(10, loc=a, scale=b-a)\n",
    "print(\"Probabilidad (profundidad <= 10):\", prob_menos_de_10)\n",
    "\n",
    "# Calculando la probabilidad de que la profundidad observada esté entre 10 y 15\n",
    "prob_entre_10_y_15 = uniform.cdf(15, loc=a, scale=b-a) - uniform.cdf(10, loc=a, scale=b-a)\n",
    "print(\"Probabilidad (10 < profundidad <= 15):\", prob_entre_10_y_15)\n",
    "\n",
    "# Calculando la probabilidad de que la profundidad obse rvada esté dentro de 1 desviación estándar del valor medio\n",
    "desviacion_estandar = np.sqrt(varianza)\n",
    "prob_dentro_1_desviacion = uniform.cdf(media + desviacion_estandar, loc=a, scale=b-a) - uniform.cdf(media - desviacion_estandar, loc=a, scale=b-a)\n",
    "print(\"Probabilidad (profundidad dentro de 1 desviación estándar):\", prob_dentro_1_desviacion)\n",
    "\n",
    "# Calculando la probabilidad de que la profundidad observada esté dentro de 2 desviaciones estándar del valor medio\n",
    "prob_dentro_2_desviaciones = uniform.cdf(media + 2*desviacion_estandar, loc=a, scale=b-a) - uniform.cdf(media - 2*desviacion_estandar, loc=a, scale=b-a)\n",
    "print(\"Probabilidad (profundidad dentro de 2 desviaciones estándar):\", prob_dentro_2_desviaciones)\n"
   ]
  }
 ],
 "metadata": {
  "kernelspec": {
   "display_name": "JUESHETO",
   "language": "python",
   "name": "python3"
  },
  "language_info": {
   "codemirror_mode": {
    "name": "ipython",
    "version": 3
   },
   "file_extension": ".py",
   "mimetype": "text/x-python",
   "name": "python",
   "nbconvert_exporter": "python",
   "pygments_lexer": "ipython3",
   "version": "3.9.12"
  },
  "orig_nbformat": 4
 },
 "nbformat": 4,
 "nbformat_minor": 2
}
