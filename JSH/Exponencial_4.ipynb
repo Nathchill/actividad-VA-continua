{
 "cells": [
  {
   "attachments": {},
   "cell_type": "markdown",
   "metadata": {},
   "source": [
    "\n",
    "# Distribuccion Exponencial #\n",
    "\n",
    "### 4.Sea X = el tiempo entre dos llegadas sucesivas a la ventanilla de una sede bancaria. Si X tiene una distribución exponencial con 𝛌 = 1 ###\n",
    "\n",
    "- El tiempo esperado entre dos llegadas sucesivas \n",
    "\n",
    "- La desviación estandar del tiempo entre dos llegadas sucesivas\n",
    "\n",
    "- P (X <= 4) \n",
    "\n",
    "- P(2 <= X <= 5) "
   ]
  },
  {
   "cell_type": "code",
   "execution_count": 2,
   "metadata": {},
   "outputs": [
    {
     "name": "stdout",
     "output_type": "stream",
     "text": [
      "Tiempo esperado entre dos llegadas sucesivas: 1.0\n",
      "Desviación estándar del tiempo entre dos llegadas sucesivas: 1.0\n",
      "P(X <= 4): 0.9816843611112658\n",
      "P(2 <= X <= 5): 0.12859733623752723\n"
     ]
    }
   ],
   "source": [
    "from scipy.stats import expon\n",
    "\n",
    "# Parámetros de la distribución exponencial\n",
    "lambd = 1\n",
    "\n",
    "# Tiempo esperado entre dos llegadas sucesivas\n",
    "esperanza = 1 / lambd\n",
    "print(\"Tiempo esperado entre dos llegadas sucesivas:\", esperanza)\n",
    "\n",
    "# Desviación estándar del tiempo entre dos llegadas sucesivas\n",
    "desviacion_estandar = 1 / lambd\n",
    "print(\"Desviación estándar del tiempo entre dos llegadas sucesivas:\", desviacion_estandar)\n",
    "\n",
    "# P(X <= 4)\n",
    "probabilidad_1 = expon.cdf(4, scale=1/lambd)\n",
    "print(\"P(X <= 4):\", probabilidad_1)\n",
    "\n",
    "# P(2 <= X <= 5)\n",
    "probabilidad_2 = expon.cdf(5, scale=1/lambd) - expon.cdf(2, scale=1/lambd)\n",
    "print(\"P(2 <= X <= 5):\", probabilidad_2)\n"
   ]
  }
 ],
 "metadata": {
  "kernelspec": {
   "display_name": "JUESHETO",
   "language": "python",
   "name": "python3"
  },
  "language_info": {
   "codemirror_mode": {
    "name": "ipython",
    "version": 3
   },
   "file_extension": ".py",
   "mimetype": "text/x-python",
   "name": "python",
   "nbconvert_exporter": "python",
   "pygments_lexer": "ipython3",
   "version": "3.9.12"
  },
  "orig_nbformat": 4
 },
 "nbformat": 4,
 "nbformat_minor": 2
}
