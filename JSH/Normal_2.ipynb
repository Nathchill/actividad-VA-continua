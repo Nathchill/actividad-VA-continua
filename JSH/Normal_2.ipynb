{
 "cells": [
  {
   "attachments": {},
   "cell_type": "markdown",
   "metadata": {},
   "source": [
    "# Distribuccion Normal #\n",
    "\n",
    "### 2. Suponga que el diámetro a la altura del pecho (pulg) de árboles de un tipo está normalmente distribuido con u = 8.8 y σ =  2.8, como se sugiere en el artículo \"Simulating a Harvester-Forwarder Softwood Thinning\" (Forest Products J., mayo de 1997; 36–41). ###\n",
    "\n",
    "- ¿Cuál es la probabilidad de que el diámetro de un árbol seleccionado al azar será por lo menos de 10 pulg? ¿Y que exceda de 10 pulg? \n",
    "\n",
    "- ¿Cuál es la probabilidad de que el diámetro de un árbol seleccionado al azar sea de más de 20 pulg? \n",
    "\n",
    "- ¿Cuál es la probabilidad de que el diámetro de un árbol seleccionado al azar sea de entre 5 y 10 pulg? \n",
    "\n"
   ]
  },
  {
   "cell_type": "code",
   "execution_count": 32,
   "metadata": {},
   "outputs": [
    {
     "name": "stdout",
     "output_type": "stream",
     "text": [
      "Probabilidad de que el diámetro sea por lo menos de 10 pulg:  0.3341175708976247\n",
      "Probabilidad de que el diámetro exceda de 10 pulg:  0.21601744600250372\n",
      "Probabilidad de que el diámetro sea más de 20 pulg: 0.000032\n",
      "Probabilidad de que el diámetro sea de entre 5 y 10 pulg:  0.5785145174947517\n"
     ]
    }
   ],
   "source": [
    "from scipy.stats import norm\n",
    "\n",
    "# Parámetros de la distribución normal\n",
    "media = 8.8\n",
    "desviacion_estandar = 2.8\n",
    "\n",
    "# Probabilidad de que el diámetro sea por lo menos de 10 pulg\n",
    "prob_mayor_igual_10 = 1 - norm.cdf(10, loc=media, scale=desviacion_estandar)\n",
    "print(\"Probabilidad de que el diámetro sea por lo menos de 10 pulg: \",prob_mayor_igual_10)\n",
    "\n",
    "# Probabilidad de que el diámetro exceda de 10 pulg\n",
    "prob_excede_10 = 1 - norm.cdf(11, loc=media, scale=desviacion_estandar)\n",
    "print(\"Probabilidad de que el diámetro exceda de 10 pulg: \",prob_excede_10)\n",
    "\n",
    "# Probabilidad de que el diámetro sea más de 20 pulg\n",
    "prob_mayor_20 = 1 - norm.cdf(20, loc=media, scale=desviacion_estandar)\n",
    "print(\"Probabilidad de que el diámetro sea más de 20 pulg: {:.6f}\".format(prob_mayor_20))\n",
    "\n",
    "# Probabilidad de que el diámetro sea de entre 5 y 10 pulg\n",
    "prob_entre_5_10 = norm.cdf(10, loc=media, scale=desviacion_estandar) - norm.cdf(5, loc=media, scale=desviacion_estandar)\n",
    "print(\"Probabilidad de que el diámetro sea de entre 5 y 10 pulg: \",prob_entre_5_10)\n",
    "\n",
    "\n",
    "\n",
    "\n",
    "\n"
   ]
  }
 ],
 "metadata": {
  "kernelspec": {
   "display_name": "JUESHETO",
   "language": "python",
   "name": "python3"
  },
  "language_info": {
   "codemirror_mode": {
    "name": "ipython",
    "version": 3
   },
   "file_extension": ".py",
   "mimetype": "text/x-python",
   "name": "python",
   "nbconvert_exporter": "python",
   "pygments_lexer": "ipython3",
   "version": "3.9.12"
  },
  "orig_nbformat": 4
 },
 "nbformat": 4,
 "nbformat_minor": 2
}
