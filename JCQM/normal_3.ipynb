{
 "cells": [
  {
   "attachments": {},
   "cell_type": "markdown",
   "metadata": {},
   "source": [
    "# Distribucion normal - Ejercicio 3\n",
    "\n",
    "* **Nombre:** Juan Camilo Quiroga\n",
    "* **Distribucion:** Normal\n",
    "* **Punto:** 3\n",
    "\n",
    "# Enunciado\n",
    "\n",
    "Suponga que la concentración de cloruro en sangre (mmol/L) tiene una distribución normal con media de 104 y desviación estándar de 5 (información en el artículo Mathematical Model of Chloride Concentration in Human Blood, J. of Med. Engr. and Tech., 2006; 25–30).\n",
    "\n",
    "* ¿Cuál es la probabilidad de que la concentración de cloruro sea igual a 105? ¿Sea menor que 105? ¿Sea cuando mucho de 105? (Rta: 0, 0.5793, 0.5793)\n",
    "* ¿Cuál es la probabilidad de que la concentración de cloruro difiera de la media por más de 1 desviación estándar? ¿Depende esta probabilidad de los valores de $\\mu$ y $\\sigma$ ? (Rta: 0.3174, No)\n",
    "* ¿Cómo caracterizaría el .1% más extremo de los valores de concentración de cloruro? (Rta: Menores a 88.55 y mayores a 119.45)"
   ]
  },
  {
   "cell_type": "code",
   "execution_count": 13,
   "metadata": {},
   "outputs": [
    {
     "name": "stdout",
     "output_type": "stream",
     "text": [
      "la probabilidad de que la concentración de cloruro sea igual a 105 = 0   porque la normal en un dato puntual es cero\n",
      "Sea menor que 105 --> P(Z < 1/5) = 0.5793\n",
      "Sea cuando mucho de 105 --> P(Z <= 1/5) = 0.5793\n",
      "P(z <= 99 y z >= 109) = 0.3173\n",
      "No depende de los valores de mu ni sigma (la media y la desviacion) porque la probabilidad de estar más de 1 desviación estándar\n",
      "por encima o por debajo de la media es constante sin importar los parámetros de la distribución normal específica que estemos considerando.\n",
      "En el extremo inferior =  88.55\n",
      "En el extremo superior =  119.45\n",
      "Por eso, la concentracion de cloruro se caracteriza por ser menor a 88.55 y mayor a 119.45\n"
     ]
    }
   ],
   "source": [
    "import scipy.stats as stats\n",
    "#Solucion\n",
    "\n",
    "#1)¿Cuál es la probabilidad de que la concentración de cloruro sea igual a 105? \n",
    "#¿Sea menor que 105? ¿Sea cuando mucho de 105? (Rta: 0, 0.5793, 0.5793)\n",
    "\n",
    "med= 104 #Media\n",
    "des= 5 #Desviacion estandar\n",
    "Z = stats.norm(loc = 0, scale = 1)\n",
    "\n",
    "print(\"la probabilidad de que la concentración de cloruro sea igual a 105 = 0   porque la normal en un dato puntual es cero\")\n",
    "\n",
    "\n",
    "z1 = (105 - med) / des\n",
    "P1 = Z.cdf(z1)  \n",
    "print(f\"Sea menor que 105 --> P(Z < 1/5) = {P1:.4f}\")\n",
    "\n",
    "z2 = (105 - med) / des\n",
    "P2 = Z.cdf(z2)  \n",
    "print(f\"Sea cuando mucho de 105 --> P(Z <= 1/5) = {P1:.4f}\")\n",
    "\n",
    "#2)¿Cuál es la probabilidad de que la concentración de cloruro difiera de la media por más de 1 desviación estándar? \n",
    "#¿Depende esta probabilidad de los valores de $\\mu$ y $\\sigma$ ? (Rta: 0.3174, No)\n",
    "\n",
    "z1 = (109 - med) / des\n",
    "z2 = (99 - med) / des\n",
    "# P3 = P(99 < z < 109)\n",
    "P3 = Z.cdf(z2) - Z.cdf(z1) # P3 = F(z2) - F(z1)\n",
    "P4 = 1 + P3\n",
    "print(f\"P(z <= 99 y z >= 109) = {P4:.4f}\")\n",
    "\n",
    "print(\"No depende de los valores de mu ni sigma (la media y la desviacion) porque la probabilidad de estar más de 1 desviación estándar\")\n",
    "print(\"por encima o por debajo de la media es constante sin importar los parámetros de la distribución normal específica que estemos considerando.\")\n",
    "\n",
    "#3)¿Cómo caracterizaría el .1% más extremo de los valores de concentración de cloruro? \n",
    "#(Rta: Menores a 88.55 y mayores a 119.45)\n",
    "\n",
    "#En el extremo inferior \n",
    "z11= -3.090\n",
    "x1 = (z11 * des) + med\n",
    "print(\"En el extremo inferior = \",x1)\n",
    "#En el extremo superior\n",
    "z22= 3.090\n",
    "x2 = (z22 * des) + med\n",
    "print(\"En el extremo superior = \",x2)\n",
    "print(\"Por eso, la concentracion de cloruro se caracteriza por ser menor a\",x1,\"y mayor a\",x2)\n",
    "\n"
   ]
  }
 ],
 "metadata": {
  "kernelspec": {
   "display_name": "Python 3",
   "language": "python",
   "name": "python3"
  },
  "language_info": {
   "codemirror_mode": {
    "name": "ipython",
    "version": 3
   },
   "file_extension": ".py",
   "mimetype": "text/x-python",
   "name": "python",
   "nbconvert_exporter": "python",
   "pygments_lexer": "ipython3",
   "version": "3.10.4"
  },
  "orig_nbformat": 4
 },
 "nbformat": 4,
 "nbformat_minor": 2
}
