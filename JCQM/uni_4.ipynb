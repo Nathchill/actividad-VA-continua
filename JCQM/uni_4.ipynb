{
 "cells": [
  {
   "attachments": {},
   "cell_type": "markdown",
   "metadata": {},
   "source": [
    "# Distribucion uniforme - Ejercicio 4\n",
    "\n",
    "* **Nombre:** Juan Camilo Quiroga\n",
    "* **Distribucion:** Uniforme\n",
    "* **Punto:** 4\n",
    "\n",
    "# Enunciado\n",
    "\n",
    "El número de tarjetas de circuito defectuosas que salen de una máquina soldadora sigue una distribución de Poisson. Durante un día específi co de ocho horas, se encontró una tarjeta defectuosa.\n",
    "\n",
    "* Encuentre la probabilidad de que haya sido producida durante la primera hora de operación durante ese día. (Rta: 1/8).\n",
    "* Encuentre la probabilidad de que haya sido producida durante la última hora de operación durante ese día. (Rta: 1/8).\n",
    "* Dado que no se produjeron tarjetas defectuosas durante las primeras cuatro horas de operación, encuentre la probabilidad de que la tarjeta defectuosa se fabricara durante la quinta hora. (Rta: 1/4).\n"
   ]
  },
  {
   "cell_type": "code",
   "execution_count": 1,
   "metadata": {},
   "outputs": [
    {
     "name": "stdout",
     "output_type": "stream",
     "text": [
      "probabilidad de que haya sido producida durante la primera hora: P[X<=1] =  0.125\n",
      "probabilidad de que haya sido producida durante la ultima hora: P[X>=8] =  0.125\n",
      "P[4<=X<=5]/P[X>=4] =  0.25\n"
     ]
    }
   ],
   "source": [
    "#Solucion\n",
    "\n",
    "#Declaracion de variables\n",
    "\n",
    "a=0 #Inicio del tiempo\n",
    "b=8 #Fin del tiempo\n",
    "h= 1/(b-a) #esta es la altura de la distribucion uniforme\n",
    "\n",
    "#1)Encuentre la probabilidad de que haya sido producida durante la primera hora de operación durante ese día. (Rta: 1/8).\n",
    "\n",
    "p= (1-0)/(b-a) #esta es la respuesta del primero, el 1-0 es el intervalo entre el inicio de la maquina y el que pase 1 hora\n",
    "print(\"probabilidad de que haya sido producida durante la primera hora: P[X<=1] = \",p)\n",
    "\n",
    "#2)Encuentre la probabilidad de que haya sido producida durante la última hora de operación durante ese día. (Rta: 1/8).\n",
    "\n",
    "q= (8-7)/(b-a) #el 8-7 es entre el fin de la 7 hora y el fin de la octava hora\n",
    "print(\"probabilidad de que haya sido producida durante la ultima hora: P[X>=8] = \",q)\n",
    "\n",
    "#3)Dado que no se produjeron tarjetas defectuosas durante las primeras cuatro horas de operación, encuentre la probabilidad \n",
    "#de que la tarjeta defectuosa se fabricara durante la quinta hora. (Rta: 1/4).\n",
    "\n",
    "z= ((5-4)/(8-0))/((8-4)/(8-0)) #la primera parte es la probabilidad de que pase en la hora quinta\n",
    "#la segunda parte es teniendo en cuenta que en las primeras 4 horas no se produjo una defectuosa\n",
    "\n",
    "print(\"P[4<=X<=5]/P[X>=4] = \",z)"
   ]
  }
 ],
 "metadata": {
  "kernelspec": {
   "display_name": "Python 3",
   "language": "python",
   "name": "python3"
  },
  "language_info": {
   "codemirror_mode": {
    "name": "ipython",
    "version": 3
   },
   "file_extension": ".py",
   "mimetype": "text/x-python",
   "name": "python",
   "nbconvert_exporter": "python",
   "pygments_lexer": "ipython3",
   "version": "3.10.4"
  },
  "orig_nbformat": 4
 },
 "nbformat": 4,
 "nbformat_minor": 2
}
