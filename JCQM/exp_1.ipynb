{
 "cells": [
  {
   "attachments": {},
   "cell_type": "markdown",
   "metadata": {},
   "source": [
    "# Distribucion exponencial - Ejercicio 1\n",
    "\n",
    "* **Nombre:** Juan Camilo Quiroga\n",
    "* **Distribucion:** Exponencial\n",
    "* **Punto:** 1\n",
    "\n",
    "# Enunciado\n",
    "\n",
    "Los datos recogidos en el Aeropuerto Internacional Toronto Pearson sugiere que una distribución exponencial con valor medio de 2.725 horas es un buen modelo para la duración de la lluvia (Urban Stormwater Management Planning with Analytical Probabilistic Models, 2000, p. 69).\n",
    "\n",
    "* ¿Cuál es la probabilidad de que la duración de un evento de lluvia en este lugar particular, sea por lo menos 2 horas? ¿A lo más 3 horas? ¿Entre 2 y 3 horas? (Rta: 0.480, 0.667, 0.147)\n",
    "* ¿Cuál es la probabilidad de que la duración de la lluvia supere el valor medio por más de dos desviaciones estándar? ¿Cuál es la probabilidad de que sea menor que el valor medio en más de una desviación estándar? (Rta: 0.050, 0)\n"
   ]
  },
  {
   "cell_type": "code",
   "execution_count": 8,
   "metadata": {},
   "outputs": [
    {
     "name": "stdout",
     "output_type": "stream",
     "text": [
      "Por lo menos 2 horas --> P[X>=2] = 1-P[X<2] = 0.48001162619764304\n",
      "A lo mas 3 horas --> P[X<=3] = 0.6674341625746038\n",
      "Entre 2 y 3 horas --> P[2<=X<=3] =  0.1874225363769607\n",
      "duración de la lluvia supere el valor medio por más de dos desviaciones estándar =  0.04978706836786395\n",
      "sea menor que el valor medio en más de una desviación estándar =  0.0\n"
     ]
    }
   ],
   "source": [
    "#Solucion\n",
    "from math import e #Importar el numero euler\n",
    "\n",
    "def efda(x,l):\n",
    "    y= 1-(e**((-1*l) * x))\n",
    "    return y\n",
    "\n",
    "#Declaracion de variables\n",
    "\n",
    "l= 1/2.725 #lamda\n",
    "\n",
    "#1)¿Cuál es la probabilidad de que la duración de un evento de lluvia en este lugar particular, sea por lo menos 2 horas? \n",
    "#¿A lo más 3 horas? ¿Entre 2 y 3 horas? (Rta: 0.480, 0.667, 0.147)\n",
    "\n",
    "x=2\n",
    "p = 1-(efda(x,l))\n",
    "print(\"Por lo menos 2 horas --> P[X>=2] = 1-P[X<2] =\",p)\n",
    "\n",
    "x=3\n",
    "q = efda(x,l)\n",
    "print(\"A lo mas 3 horas --> P[X<=3] =\",q)\n",
    "\n",
    "print(\"Entre 2 y 3 horas --> P[2<=X<=3] = \",q-p)\n",
    "\n",
    "#2)¿Cuál es la probabilidad de que la duración de la lluvia supere el valor medio por más de dos desviaciones estándar? \n",
    "#¿Cuál es la probabilidad de que sea menor que el valor medio en más de una desviación estándar? (Rta: 0.050, 0)\n",
    "\n",
    "d= 1/l #Desviacion estandar y valor medio\n",
    "d2= d + (2*d)\n",
    "\n",
    "r1= 1-(efda(d2,l))\n",
    "print(\"duración de la lluvia supere el valor medio por más de dos desviaciones estándar = \",r1)\n",
    "\n",
    "d3= d - d\n",
    "\n",
    "r2= efda(d3,l)\n",
    "print(\"sea menor que el valor medio en más de una desviación estándar = \",r2)"
   ]
  }
 ],
 "metadata": {
  "kernelspec": {
   "display_name": "Python 3",
   "language": "python",
   "name": "python3"
  },
  "language_info": {
   "codemirror_mode": {
    "name": "ipython",
    "version": 3
   },
   "file_extension": ".py",
   "mimetype": "text/x-python",
   "name": "python",
   "nbconvert_exporter": "python",
   "pygments_lexer": "ipython3",
   "version": "3.10.4"
  },
  "orig_nbformat": 4
 },
 "nbformat": 4,
 "nbformat_minor": 2
}
