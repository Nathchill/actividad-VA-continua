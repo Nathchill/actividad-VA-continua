{
 "cells": [
  {
   "attachments": {},
   "cell_type": "markdown",
   "metadata": {},
   "source": [
    "# Distribucion uniforme_Ejercicio 3\n",
    "- Nombre : Samuel Toro Angarita\n",
    "- Distribucion: Normal\n",
    "- Punto: 5\n"
   ]
  },
  {
   "attachments": {},
   "cell_type": "markdown",
   "metadata": {},
   "source": [
    "# Enunciado\n",
    "5. Suponga que la distribución de la tasa de digitado neta en palabras por minuto (ppm) para mecanógrafos experimentados se puede aproximar mediante una curva normal con una media de 60 ppm y una desviación estándar de 15 ppm (\"Effects of Age and Skill in Typing\", Journal of Experimental Psychology [Effects of Age and Skill in Typing], Journal of Experimental Psychology [ 1984]: 345–371).\n",
    "\n",
    "Cuál es la probabilidad de que la velocidad neta de un mecanógrafo seleccionado al azar:\n",
    "\n",
    "- Sea como máximo de 60 palabras por minuto. (Rta: 0.5)\n",
    "\n",
    "- Al menos de 60 palabras por minuto. (Rta: 0.5)\n",
    "\n",
    "¿Cuál es la probabilidad de que la tasa neta de un mecanógrafo seleccionado al azar esté entre 45 y 90 palabras por minuto? (Rta: 0.8185)\n",
    "\n",
    "¿Le sorprendería encontrar un mecanógrafo en esta población cuya velocidad neta supere las 105 palabras por minuto? (Nota: la mayor velocidad neta en una muestra descrita en el articulo es de 104 palabras por minuto). (Rta: Si, describa el porque)\n",
    "\n",
    "Suponga que se seleccionan dos mecanógrafos de forma independiente. \n",
    "\n",
    "¿Cuál es la probabilidad de que la tasa de mecanografía de ambos supere las 75 palabras por minuto? (Rta: 0.0252)\n",
    "\n",
    "Suponga que se va a poner a disposición del 20% más lento de los mecanógrafos una capacitación especial.\n",
    " \n",
    "¿Qué velocidades de escritura calificarían a las personas para esta capacitación? (Rta: Aquellas menores a 47.4)"
   ]
  },
  {
   "attachments": {},
   "cell_type": "markdown",
   "metadata": {},
   "source": [
    "# SOLUCION"
   ]
  },
  {
   "attachments": {},
   "cell_type": "markdown",
   "metadata": {},
   "source": [
    "# PUNTO 1"
   ]
  },
  {
   "cell_type": "code",
   "execution_count": 1,
   "metadata": {},
   "outputs": [
    {
     "name": "stdout",
     "output_type": "stream",
     "text": [
      "Probabilidad de que la velocidad neta sea como máximo de 60 ppm: 0.5\n",
      "Probabilidad de que la velocidad neta sea al menos de 60 ppm: 0.5\n"
     ]
    }
   ],
   "source": [
    "from scipy.stats import norm\n",
    "\n",
    "# Media y desviación estándar\n",
    "media = 60\n",
    "desviacion = 15\n",
    "\n",
    "# Calcular la probabilidad de que la velocidad neta sea como máximo de 60 ppm\n",
    "prob_max_60 = norm.cdf(60, loc=media, scale=desviacion)\n",
    "\n",
    "# Calcular la probabilidad de que la velocidad neta sea al menos de 60 ppm\n",
    "prob_at_least_60 = 1 - prob_max_60\n",
    "\n",
    "print(\"Probabilidad de que la velocidad neta sea como máximo de 60 ppm:\", prob_max_60)\n",
    "print(\"Probabilidad de que la velocidad neta sea al menos de 60 ppm:\", prob_at_least_60)\n"
   ]
  },
  {
   "attachments": {},
   "cell_type": "markdown",
   "metadata": {},
   "source": [
    "# PUNTO 2"
   ]
  },
  {
   "cell_type": "code",
   "execution_count": 2,
   "metadata": {},
   "outputs": [
    {
     "name": "stdout",
     "output_type": "stream",
     "text": [
      "Probabilidad de que la tasa neta esté entre 45 y 90 ppm: 0.8185946141203637\n"
     ]
    }
   ],
   "source": [
    "from scipy.stats import norm\n",
    "\n",
    "# Media y desviación estándar\n",
    "media = 60\n",
    "desviacion = 15\n",
    "\n",
    "# Calcular la probabilidad de que la tasa neta esté por debajo de 90 ppm\n",
    "prob_below_90 = norm.cdf(90, loc=media, scale=desviacion)\n",
    "\n",
    "# Calcular la probabilidad de que la tasa neta esté por debajo de 45 ppm\n",
    "prob_below_45 = norm.cdf(45, loc=media, scale=desviacion)\n",
    "\n",
    "# Calcular la probabilidad de que la tasa neta esté entre 45 y 90 ppm\n",
    "prob_between = prob_below_90 - prob_below_45\n",
    "\n",
    "print(\"Probabilidad de que la tasa neta esté entre 45 y 90 ppm:\", prob_between)\n"
   ]
  },
  {
   "attachments": {},
   "cell_type": "markdown",
   "metadata": {},
   "source": [
    "# PUNTO 3\n",
    "\n",
    "Dado que la distribución es normal, las velocidades más altas tendrán una probabilidad cada vez más baja a medida que se alejen de la media. Si consideramos una velocidad de 105 ppm o superior, estaríamos hablando de valores que se encuentran significativamente lejos de la media y más allá de los límites comunes observados en la muestra.\n",
    "\n",
    "Por lo tanto, sería sorprendente encontrar un mecanógrafo en esta población cuya velocidad neta supere las 105 palabras por minuto, dado el rango y la distribución observada en el estudio mencionado."
   ]
  },
  {
   "attachments": {},
   "cell_type": "markdown",
   "metadata": {},
   "source": [
    "# PUNTO 4"
   ]
  },
  {
   "cell_type": "code",
   "execution_count": 3,
   "metadata": {},
   "outputs": [
    {
     "name": "stdout",
     "output_type": "stream",
     "text": [
      "Probabilidad de que la tasa de mecanografía de ambos mecanógrafos supere las 75 ppm: 0.025171489600055125\n"
     ]
    }
   ],
   "source": [
    "from scipy.stats import norm\n",
    "\n",
    "# Media y desviación estándar\n",
    "media = 60\n",
    "desviacion = 15\n",
    "\n",
    "# Calcular la probabilidad de que la tasa de mecanografía supere las 75 ppm para ambos mecanógrafos\n",
    "prob_exceed_75 = 1 - norm.cdf(75, loc=media, scale=desviacion)\n",
    "\n",
    "# Calcular la probabilidad conjunta para ambos mecanógrafos\n",
    "prob_both_exceed_75 = prob_exceed_75 ** 2\n",
    "\n",
    "print(\"Probabilidad de que la tasa de mecanografía de ambos mecanógrafos supere las 75 ppm:\", prob_both_exceed_75)\n"
   ]
  },
  {
   "attachments": {},
   "cell_type": "markdown",
   "metadata": {},
   "source": [
    "# PUNTO 5 "
   ]
  },
  {
   "cell_type": "code",
   "execution_count": 4,
   "metadata": {},
   "outputs": [
    {
     "name": "stdout",
     "output_type": "stream",
     "text": [
      "Velocidad de escritura que calificaría a las personas para la capacitación especial: 47.37568149640629\n"
     ]
    }
   ],
   "source": [
    "from scipy.stats import norm\n",
    "\n",
    "# Media y desviación estándar\n",
    "media = 60\n",
    "desviacion = 15\n",
    "\n",
    "# Calcular el percentil correspondiente al 20% más lento\n",
    "percentil_20 = norm.ppf(0.2, loc=media, scale=desviacion)\n",
    "\n",
    "print(\"Velocidad de escritura que calificaría a las personas para la capacitación especial:\", percentil_20)\n"
   ]
  }
 ],
 "metadata": {
  "kernelspec": {
   "display_name": "Python 3",
   "language": "python",
   "name": "python3"
  },
  "language_info": {
   "codemirror_mode": {
    "name": "ipython",
    "version": 3
   },
   "file_extension": ".py",
   "mimetype": "text/x-python",
   "name": "python",
   "nbconvert_exporter": "python",
   "pygments_lexer": "ipython3",
   "version": "3.10.4"
  },
  "orig_nbformat": 4
 },
 "nbformat": 4,
 "nbformat_minor": 2
}
