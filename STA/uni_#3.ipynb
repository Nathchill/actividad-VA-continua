{
 "cells": [
  {
   "attachments": {},
   "cell_type": "markdown",
   "metadata": {},
   "source": [
    "# Distribucion uniforme_Ejercicio 3\n",
    "- Nombre : Samuel Toro Angarita\n",
    "- Distribucion: uniforme\n",
    "- Punto: 3\n"
   ]
  },
  {
   "attachments": {},
   "cell_type": "markdown",
   "metadata": {},
   "source": [
    "# ENUNCIADO \n",
    "\n",
    "3. Al estudiar bajas cotizaciones para contratos de embarques, una empresa fabricante de microcomputadoras encuentra que los contratos interestatales tienen bajas cotizaciones que están uniformemente distribuidas entre 20 y 25, en unidades de miles de dólares. Encuentre la probabilidad de que la baja cotización en el siguiente contrato interestatal:"
   ]
  },
  {
   "attachments": {},
   "cell_type": "markdown",
   "metadata": {},
   "source": [
    "# Solucion"
   ]
  },
  {
   "attachments": {},
   "cell_type": "markdown",
   "metadata": {},
   "source": [
    "# PUNTO 1"
   ]
  },
  {
   "cell_type": "code",
   "execution_count": 1,
   "metadata": {},
   "outputs": [
    {
     "name": "stdout",
     "output_type": "stream",
     "text": [
      "Probabilidad de que la baja cotización esté por debajo de 22000: 0.4\n"
     ]
    }
   ],
   "source": [
    "from scipy.stats import uniform\n",
    "\n",
    "# Límites de la distribución uniforme\n",
    "a = 20\n",
    "b = 25\n",
    "\n",
    "# Calcular la probabilidad de que la baja cotización esté por debajo de 22000\n",
    "prob_below_22000 = uniform.cdf(22, loc=a, scale=(b-a))\n",
    "\n",
    "print(\"Probabilidad de que la baja cotización esté por debajo de 22000:\", prob_below_22000)\n"
   ]
  },
  {
   "attachments": {},
   "cell_type": "markdown",
   "metadata": {},
   "source": [
    "# PUNTO 2"
   ]
  },
  {
   "cell_type": "code",
   "execution_count": 2,
   "metadata": {},
   "outputs": [
    {
     "name": "stdout",
     "output_type": "stream",
     "text": [
      "Probabilidad de que la baja cotización esté por encima de 24000: 0.19999999999999996\n"
     ]
    }
   ],
   "source": [
    "from scipy.stats import uniform\n",
    "\n",
    "# Límites de la distribución uniforme\n",
    "a = 20\n",
    "b = 25\n",
    "\n",
    "# Calcular la probabilidad de que la baja cotización esté por debajo de 24000\n",
    "prob_below_24000 = uniform.cdf(24, loc=a, scale=(b-a))\n",
    "\n",
    "# Calcular la probabilidad de que la baja cotización esté por encima de 24000\n",
    "prob_above_24000 = 1 - prob_below_24000\n",
    "\n",
    "print(\"Probabilidad de que la baja cotización esté por encima de 24000:\", prob_above_24000)\n"
   ]
  }
 ],
 "metadata": {
  "kernelspec": {
   "display_name": "Python 3",
   "language": "python",
   "name": "python3"
  },
  "language_info": {
   "codemirror_mode": {
    "name": "ipython",
    "version": 3
   },
   "file_extension": ".py",
   "mimetype": "text/x-python",
   "name": "python",
   "nbconvert_exporter": "python",
   "pygments_lexer": "ipython3",
   "version": "3.10.4"
  },
  "orig_nbformat": 4
 },
 "nbformat": 4,
 "nbformat_minor": 2
}
