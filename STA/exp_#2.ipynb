{
 "cells": [
  {
   "attachments": {},
   "cell_type": "markdown",
   "metadata": {},
   "source": [
    "# Distribucion exponencial_Ejercicio 2\n",
    "- Nombre : Samuel Toro Angarita\n",
    "- Distribucion: exponencial\n",
    "- Punto: 2\n"
   ]
  },
  {
   "attachments": {},
   "cell_type": "markdown",
   "metadata": {},
   "source": [
    "# Enunciado\n",
    "\n",
    "2. sea ***X*** la distancia (m) que un animal recorre desde el sitio de su nacimiento hasta el primer territorio vacante que encuentra. Suponga que para ratas canguro con etiqueta en la cola, ***X*** tiene una distribución exponencial con parámetro $\\lambda=0.1386$ (como lo sugiere el artículo \"Competition and Dispersal from Multiple Nests\", Ecology, 1997: 873–883).\n",
    "   * ¿Cuál es la probabilidad de que la distancia sea cuando mucho de 100 m? ¿Cuando mucho de 200 m? ¿Entre 100 y 200 m? (**Rta**: 0.7499, 0.9375, 0.1876)\n",
    "   * ¿Cuál es la probabilidad de que la distancia exceda la distancia media por más de 2 desviaciones estándar? (**Rta**: 0.0498)\n",
    "   * ¿Cuál es el valor de la distancia mediana? (**Rta**: 50.01m)"
   ]
  },
  {
   "attachments": {},
   "cell_type": "markdown",
   "metadata": {},
   "source": [
    "# SOLUCION EN PYTHON"
   ]
  },
  {
   "attachments": {},
   "cell_type": "markdown",
   "metadata": {},
   "source": [
    "# PUNTO 1"
   ]
  },
  {
   "cell_type": "code",
   "execution_count": 12,
   "metadata": {},
   "outputs": [
    {
     "name": "stdout",
     "output_type": "stream",
     "text": [
      "Probabilidad de que la distancia sea cuando mucho de 100 m: 0.7496762002083039\n",
      "Probabilidad de que la distancia sea cuando mucho de 200 m: 0.9373379952578469\n",
      "Probabilidad de que la distancia esté entre 100 y 200 m: 0.18766179504954295\n"
     ]
    }
   ],
   "source": [
    "from scipy.stats import expon\n",
    "\n",
    "# Parámetro lambda\n",
    "lmbda = 0.01385\n",
    "\n",
    "# Calcular la probabilidad de que la distancia sea cuando mucho de 100 m\n",
    "prob_100 = expon.cdf(100, scale=1/lmbda)\n",
    "\n",
    "# Calcular la probabilidad de que la distancia sea cuando mucho de 200 m\n",
    "prob_200 = expon.cdf(200, scale=1/lmbda)\n",
    "\n",
    "# Calcular la probabilidad de que la distancia esté entre 100 y 200 m\n",
    "prob_between = prob_200 - prob_100\n",
    "\n",
    "print(\"Probabilidad de que la distancia sea cuando mucho de 100 m:\", prob_100)\n",
    "print(\"Probabilidad de que la distancia sea cuando mucho de 200 m:\", prob_200)\n",
    "print(\"Probabilidad de que la distancia esté entre 100 y 200 m:\", prob_between)\n",
    "\n",
    "\n"
   ]
  },
  {
   "attachments": {},
   "cell_type": "markdown",
   "metadata": {},
   "source": [
    "# PUNTO 2"
   ]
  },
  {
   "cell_type": "code",
   "execution_count": 13,
   "metadata": {},
   "outputs": [
    {
     "name": "stdout",
     "output_type": "stream",
     "text": [
      "Probabilidad de que la distancia exceda la distancia media por más de 2 desviaciones estándar: 0.04978706836786394\n"
     ]
    }
   ],
   "source": [
    "from scipy.stats import expon\n",
    "\n",
    "# Parámetro lambda\n",
    "lmbda = 0.01386\n",
    "\n",
    "# Calcular la distancia media y la desviación estándar\n",
    "mean = 1 / lmbda\n",
    "std_dev = 1 / lmbda\n",
    "\n",
    "# Calcular la distancia excediendo la media por más de 2 desviaciones estándar\n",
    "exceed_distance = mean + 2 * std_dev\n",
    "\n",
    "# Calcular la probabilidad utilizando la función de supervivencia (SF)\n",
    "prob_exceed = expon.sf(exceed_distance, scale=1/lmbda)\n",
    "\n",
    "print(\"Probabilidad de que la distancia exceda la distancia media por más de 2 desviaciones estándar:\", prob_exceed)\n"
   ]
  },
  {
   "attachments": {},
   "cell_type": "markdown",
   "metadata": {},
   "source": [
    "# PUNTO 3"
   ]
  },
  {
   "cell_type": "code",
   "execution_count": 14,
   "metadata": {},
   "outputs": [
    {
     "name": "stdout",
     "output_type": "stream",
     "text": [
      "Valor de la distancia mediana: 50.01061908801914\n"
     ]
    }
   ],
   "source": [
    "import math\n",
    "\n",
    "# Parámetro lambda\n",
    "lmbda = 0.01386\n",
    "\n",
    "# Calcular la distancia mediana\n",
    "median = math.log(2) / lmbda\n",
    "\n",
    "print(\"Valor de la distancia mediana:\", median)\n"
   ]
  }
 ],
 "metadata": {
  "kernelspec": {
   "display_name": "Python 3",
   "language": "python",
   "name": "python3"
  },
  "language_info": {
   "codemirror_mode": {
    "name": "ipython",
    "version": 3
   },
   "file_extension": ".py",
   "mimetype": "text/x-python",
   "name": "python",
   "nbconvert_exporter": "python",
   "pygments_lexer": "ipython3",
   "version": "3.10.4"
  },
  "orig_nbformat": 4
 },
 "nbformat": 4,
 "nbformat_minor": 2
}
